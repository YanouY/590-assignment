{
  "nbformat": 4,
  "nbformat_minor": 0,
  "metadata": {
    "kernelspec": {
      "display_name": "Python 3",
      "language": "python",
      "name": "python3"
    },
    "language_info": {
      "codemirror_mode": {
        "name": "ipython",
        "version": 3
      },
      "file_extension": ".py",
      "mimetype": "text/x-python",
      "name": "python",
      "nbconvert_exporter": "python",
      "pygments_lexer": "ipython3",
      "version": "3.7.4"
    },
    "colab": {
      "name": "Homework3.ipynb",
      "provenance": [],
      "collapsed_sections": [],
      "toc_visible": true,
      "include_colab_link": true
    },
    "accelerator": "TPU"
  },
  "cells": [
    {
      "cell_type": "markdown",
      "metadata": {
        "id": "view-in-github",
        "colab_type": "text"
      },
      "source": [
        "<a href=\"https://colab.research.google.com/github/YanouY/590-assignment/blob/master/Homework3.ipynb\" target=\"_parent\"><img src=\"https://colab.research.google.com/assets/colab-badge.svg\" alt=\"Open In Colab\"/></a>"
      ]
    },
    {
      "cell_type": "code",
      "metadata": {
        "id": "PmB4dUQ4Mkpy"
      },
      "source": [
        "import numpy as np\n",
        "import matplotlib.pyplot as plt\n",
        "import tensorflow as tf\n",
        "import tensorflow.keras as tfk\n",
        "from keras import layers\n",
        "import keras\n",
        "import pandas as pd\n",
        "from itertools import chain\n",
        "from tensorflow.keras.models import Sequential\n",
        "\n",
        "tfkl = tfk.layers"
      ],
      "execution_count": 1,
      "outputs": []
    },
    {
      "cell_type": "code",
      "metadata": {
        "id": "rCjPfB_SMkpy"
      },
      "source": [
        "def unpickle(file):\n",
        "    import pickle\n",
        "    with open(file, 'rb') as fo:\n",
        "        dict = pickle.load(fo, encoding='bytes')\n",
        "    return dict"
      ],
      "execution_count": null,
      "outputs": []
    },
    {
      "cell_type": "code",
      "metadata": {
        "id": "IZNXYuI2Mkpy"
      },
      "source": [
        "file1 = '/content/data_batch_1'\n",
        "file2 = '/content/data_batch_2'\n",
        "file3 = '/content/data_batch_3'\n",
        "file4 = '/content/data_batch_4'\n",
        "file5 = '/content/data_batch_5'\n",
        "batch_1 = unpickle(file1)\n",
        "batch_2 = unpickle(file2)\n",
        "batch_3 = unpickle(file3)\n",
        "batch_4 = unpickle(file4)\n",
        "batch_5 = unpickle(file5)\n",
        "test = '/content/test_batch'\n",
        "test_ = unpickle(test)"
      ],
      "execution_count": null,
      "outputs": []
    },
    {
      "cell_type": "code",
      "metadata": {
        "id": "GsTrirqsMkpy"
      },
      "source": [
        "data_1 = batch_1[b'data']\n",
        "label_1 = batch_1[b'labels']\n",
        "data_2 = batch_2[b'data']\n",
        "label_2 = batch_2[b'labels']\n",
        "data_3 = batch_3[b'data']\n",
        "label_3 = batch_3[b'labels']\n",
        "data_4 = batch_4[b'data']\n",
        "label_4 = batch_4[b'labels']\n",
        "data_5 = batch_5[b'data']\n",
        "label_5 = batch_5[b'labels']\n",
        "test_data = test_[b'data']\n",
        "test_label = test_[b'labels']"
      ],
      "execution_count": null,
      "outputs": []
    },
    {
      "cell_type": "code",
      "metadata": {
        "id": "t-gt-75pMkpy"
      },
      "source": [
        "data = np.array([*data_1, *data_2, *data_3, *data_4, *data_5])\n",
        "label = np.array([*label_1, *label_2, *label_3, *label_4, *label_5])"
      ],
      "execution_count": null,
      "outputs": []
    },
    {
      "cell_type": "code",
      "metadata": {
        "id": "VM7wsd29Mkpy"
      },
      "source": [
        "input_img = keras.Input(shape=(32, 32, 3))\n",
        "\n",
        "x = layers.Conv2D(16, (3, 3), activation='relu', padding='same')(input_img) # 32, 32, 16\n",
        "x = layers.MaxPooling2D((2, 2), padding='same')(x) # 16, 16, 16\n",
        "x = layers.Conv2D(8, (3, 3), activation='relu', padding='same')(x) # 8, 8, 8\n",
        "x = layers.MaxPooling2D((2, 2), padding='same')(x) # 8, 8, 8\n",
        "x = layers.Conv2D(8, (3, 3), activation='relu', padding='same')(x) # 4, 4, 8\n",
        "encoded = layers.MaxPooling2D((2, 2), padding='same')(x) # 4, 4, 8\n",
        "\n",
        "x = layers.Conv2D(8, (3, 3), activation='relu', padding='same')(encoded) # 4 4 8\n",
        "x = layers.UpSampling2D((2, 2))(x) # 8 8 8 \n",
        "x = layers.Conv2D(8, (3, 3), activation='relu', padding='same')(x) # 8 8 8\n",
        "x = layers.UpSampling2D((2, 2))(x) # 16 16 8\n",
        "x = layers.Conv2D(16, (3, 3), activation='relu', padding='same')(x) # 14 14 16\n",
        "x = layers.UpSampling2D((2, 2))(x) # 28 28 16\n",
        "decoded = layers.Conv2D(3, (3, 3), activation='sigmoid', padding='same')(x) # 28 28 3\n",
        "\n",
        "autoencoder = keras.Model(input_img, decoded)\n",
        "autoencoder.compile(optimizer='adam', loss='binary_crossentropy')"
      ],
      "execution_count": null,
      "outputs": []
    },
    {
      "cell_type": "code",
      "metadata": {
        "colab": {
          "base_uri": "https://localhost:8080/"
        },
        "id": "K4lBm6-jMkpy",
        "outputId": "2f2dfa58-4fa7-4be1-bdd4-cfec293d0f63"
      },
      "source": [
        "autoencoder.summary()"
      ],
      "execution_count": null,
      "outputs": [
        {
          "output_type": "stream",
          "text": [
            "Model: \"functional_1\"\n",
            "_________________________________________________________________\n",
            "Layer (type)                 Output Shape              Param #   \n",
            "=================================================================\n",
            "input_1 (InputLayer)         [(None, 32, 32, 3)]       0         \n",
            "_________________________________________________________________\n",
            "conv2d (Conv2D)              (None, 32, 32, 16)        448       \n",
            "_________________________________________________________________\n",
            "max_pooling2d (MaxPooling2D) (None, 16, 16, 16)        0         \n",
            "_________________________________________________________________\n",
            "conv2d_1 (Conv2D)            (None, 16, 16, 8)         1160      \n",
            "_________________________________________________________________\n",
            "max_pooling2d_1 (MaxPooling2 (None, 8, 8, 8)           0         \n",
            "_________________________________________________________________\n",
            "conv2d_2 (Conv2D)            (None, 8, 8, 8)           584       \n",
            "_________________________________________________________________\n",
            "max_pooling2d_2 (MaxPooling2 (None, 4, 4, 8)           0         \n",
            "_________________________________________________________________\n",
            "conv2d_3 (Conv2D)            (None, 4, 4, 8)           584       \n",
            "_________________________________________________________________\n",
            "up_sampling2d (UpSampling2D) (None, 8, 8, 8)           0         \n",
            "_________________________________________________________________\n",
            "conv2d_4 (Conv2D)            (None, 8, 8, 8)           584       \n",
            "_________________________________________________________________\n",
            "up_sampling2d_1 (UpSampling2 (None, 16, 16, 8)         0         \n",
            "_________________________________________________________________\n",
            "conv2d_5 (Conv2D)            (None, 16, 16, 16)        1168      \n",
            "_________________________________________________________________\n",
            "up_sampling2d_2 (UpSampling2 (None, 32, 32, 16)        0         \n",
            "_________________________________________________________________\n",
            "conv2d_6 (Conv2D)            (None, 32, 32, 3)         435       \n",
            "=================================================================\n",
            "Total params: 4,963\n",
            "Trainable params: 4,963\n",
            "Non-trainable params: 0\n",
            "_________________________________________________________________\n"
          ],
          "name": "stdout"
        }
      ]
    },
    {
      "cell_type": "code",
      "metadata": {
        "colab": {
          "base_uri": "https://localhost:8080/"
        },
        "id": "3bhzorIXMkpz",
        "outputId": "b65d497b-f147-4e02-c13f-9bc52419d4b9"
      },
      "source": [
        "from keras.callbacks import TensorBoard\n",
        "autoencoder._get_distribution_strategy = lambda: None\n",
        "\n",
        "data = data.astype('float32') / 255\n",
        "test_data = test_data.astype('float32') / 255\n",
        "x_train = np.reshape(data, (len(data), 32, 32, 3))\n",
        "test_data = np.reshape(test_data, (len(test_data), 32, 32, 3))\n",
        "#x_label = np.reshape(label, (len(label), 32, 32, 3))\n",
        "\n",
        "autoencoder.fit(x_train, x_train,\n",
        "                epochs=10,\n",
        "                batch_size=128,\n",
        "                shuffle=True,\n",
        "                validation_data=(test_data, test_data))"
      ],
      "execution_count": null,
      "outputs": [
        {
          "output_type": "stream",
          "text": [
            "Epoch 1/10\n",
            "391/391 [==============================] - 83s 212ms/step - loss: 0.6423 - val_loss: 0.6252\n",
            "Epoch 2/10\n",
            "391/391 [==============================] - 83s 213ms/step - loss: 0.6213 - val_loss: 0.6194\n",
            "Epoch 3/10\n",
            "391/391 [==============================] - 84s 214ms/step - loss: 0.6173 - val_loss: 0.6169\n",
            "Epoch 4/10\n",
            "391/391 [==============================] - 84s 214ms/step - loss: 0.6153 - val_loss: 0.6153\n",
            "Epoch 5/10\n",
            "391/391 [==============================] - 85s 216ms/step - loss: 0.6139 - val_loss: 0.6139\n",
            "Epoch 6/10\n",
            "391/391 [==============================] - 84s 214ms/step - loss: 0.6128 - val_loss: 0.6129\n",
            "Epoch 7/10\n",
            "391/391 [==============================] - 84s 215ms/step - loss: 0.6118 - val_loss: 0.6122\n",
            "Epoch 8/10\n",
            "391/391 [==============================] - 84s 215ms/step - loss: 0.6108 - val_loss: 0.6112\n",
            "Epoch 9/10\n",
            "391/391 [==============================] - 84s 214ms/step - loss: 0.6099 - val_loss: 0.6102\n",
            "Epoch 10/10\n",
            "391/391 [==============================] - 84s 214ms/step - loss: 0.6091 - val_loss: 0.6095\n"
          ],
          "name": "stdout"
        },
        {
          "output_type": "execute_result",
          "data": {
            "text/plain": [
              "<tensorflow.python.keras.callbacks.History at 0x7f2dac314f28>"
            ]
          },
          "metadata": {
            "tags": []
          },
          "execution_count": 16
        }
      ]
    },
    {
      "cell_type": "code",
      "metadata": {
        "colab": {
          "base_uri": "https://localhost:8080/",
          "height": 1000
        },
        "id": "0GksB4E6Mkpz",
        "outputId": "791827d4-f53a-4dc1-859e-a30a689fda24"
      },
      "source": [
        "result = autoencoder.predict(test_data)\n",
        "\n",
        "for i in range(10):\n",
        "    plt.subplot(1, 2, 1)\n",
        "    plt.imshow(test_data[i].squeeze(), cmap='bone')\n",
        "    plt.subplot(1, 2, 2, )\n",
        "    plt.imshow(result[i].squeeze(), cmap='bone')\n",
        "    plt.show()"
      ],
      "execution_count": null,
      "outputs": [
        {
          "output_type": "display_data",
          "data": {
            "image/png": "[encoded data removed]",
            "text/plain": [
              "<Figure size 432x288 with 2 Axes>"
            ]
          },
          "metadata": {
            "tags": [],
            "needs_background": "light"
          }
        },
        {
          "output_type": "display_data",
          "data": {
            "image/png": "[encoded data removed]",
            "text/plain": [
              "<Figure size 432x288 with 2 Axes>"
            ]
          },
          "metadata": {
            "tags": [],
            "needs_background": "light"
          }
        },
        {
          "output_type": "display_data",
          "data": {
            "image/png": "[encoded data removed]",
            "text/plain": [
              "<Figure size 432x288 with 2 Axes>"
            ]
          },
          "metadata": {
            "tags": [],
            "needs_background": "light"
          }
        },
        {
          "output_type": "display_data",
          "data": {
            "image/png": "[encoded data removed]",
            "text/plain": [
              "<Figure size 432x288 with 2 Axes>"
            ]
          },
          "metadata": {
            "tags": [],
            "needs_background": "light"
          }
        },
        {
          "output_type": "display_data",
          "data": {
            "image/png": "[encoded data removed]",
            "text/plain": [
              "<Figure size 432x288 with 2 Axes>"
            ]
          },
          "metadata": {
            "tags": [],
            "needs_background": "light"
          }
        },
        {
          "output_type": "display_data",
          "data": {
            "image/png": "[encoded data removed]",
            "text/plain": [
              "<Figure size 432x288 with 2 Axes>"
            ]
          },
          "metadata": {
            "tags": [],
            "needs_background": "light"
          }
        },
        {
          "output_type": "display_data",
          "data": {
            "image/png": "[encoded data removed]",
            "text/plain": [
              "<Figure size 432x288 with 2 Axes>"
            ]
          },
          "metadata": {
            "tags": [],
            "needs_background": "light"
          }
        },
        {
          "output_type": "display_data",
          "data": {
            "image/png": "[encoded data removed]",
            "text/plain": [
              "<Figure size 432x288 with 2 Axes>"
            ]
          },
          "metadata": {
            "tags": [],
            "needs_background": "light"
          }
        },
        {
          "output_type": "display_data",
          "data": {
            "image/png": "[encoded data removed]",
            "text/plain": [
              "<Figure size 432x288 with 2 Axes>"
            ]
          },
          "metadata": {
            "tags": [],
            "needs_background": "light"
          }
        },
        {
          "output_type": "display_data",
          "data": {
            "image/png": "[encoded data removed]",
            "text/plain": [
              "<Figure size 432x288 with 2 Axes>"
            ]
          },
          "metadata": {
            "tags": [],
            "needs_background": "light"
          }
        }
      ]
    },
    {
      "cell_type": "markdown",
      "metadata": {
        "id": "N9MdMHvSMkpz"
      },
      "source": [
        "### 2.1 Deep CNN"
      ]
    },
    {
      "cell_type": "code",
      "metadata": {
        "colab": {
          "base_uri": "https://localhost:8080/"
        },
        "id": "Ag1rZ-XHMkpz",
        "outputId": "95e14863-fd2a-433e-a097-fc0ef84e2dc5"
      },
      "source": [
        "model = tfk.Sequential()\n",
        "# block1\n",
        "model.add(tfkl.Conv2D(filters = 32, kernel_size=2, strides=2, \n",
        "                      padding=\"valid\", activation='sigmoid', input_shape=(32, 32, 3)))\n",
        "model.add(tfkl.MaxPool2D(pool_size=2))\n",
        "model.add(tfkl.Dropout(.2))\n",
        "\n",
        "\n",
        "# block2\n",
        "model.add(tfkl.Conv2D(filters = 16, kernel_size=2, strides=1, \n",
        "                      padding=\"valid\", activation='relu'))\n",
        "model.add(tfkl.MaxPool2D(pool_size=2))\n",
        "model.add(tfkl.Dropout(.2))\n",
        "\n",
        "# block3\n",
        "model.add(tfkl.Conv2D(filters = 8, kernel_size=2, strides=1, \n",
        "                      padding=\"valid\", activation='relu'))\n",
        "model.add(tfkl.MaxPool2D(pool_size=2))\n",
        "model.add(tfkl.Dropout(.2))\n",
        "\n",
        "# flatten\n",
        "model.add(tfkl.GlobalMaxPool2D())\n",
        "model.add(tfkl.Dense(10, activation = 'softmax'))\n",
        "\n",
        "\n",
        "model.summary()"
      ],
      "execution_count": null,
      "outputs": [
        {
          "output_type": "stream",
          "text": [
            "Model: \"sequential\"\n",
            "_________________________________________________________________\n",
            "Layer (type)                 Output Shape              Param #   \n",
            "=================================================================\n",
            "conv2d_7 (Conv2D)            (None, 16, 16, 32)        416       \n",
            "_________________________________________________________________\n",
            "max_pooling2d_3 (MaxPooling2 (None, 8, 8, 32)          0         \n",
            "_________________________________________________________________\n",
            "dropout (Dropout)            (None, 8, 8, 32)          0         \n",
            "_________________________________________________________________\n",
            "conv2d_8 (Conv2D)            (None, 7, 7, 16)          2064      \n",
            "_________________________________________________________________\n",
            "max_pooling2d_4 (MaxPooling2 (None, 3, 3, 16)          0         \n",
            "_________________________________________________________________\n",
            "dropout_1 (Dropout)          (None, 3, 3, 16)          0         \n",
            "_________________________________________________________________\n",
            "conv2d_9 (Conv2D)            (None, 2, 2, 8)           520       \n",
            "_________________________________________________________________\n",
            "max_pooling2d_5 (MaxPooling2 (None, 1, 1, 8)           0         \n",
            "_________________________________________________________________\n",
            "dropout_2 (Dropout)          (None, 1, 1, 8)           0         \n",
            "_________________________________________________________________\n",
            "global_max_pooling2d (Global (None, 8)                 0         \n",
            "_________________________________________________________________\n",
            "dense (Dense)                (None, 10)                90        \n",
            "=================================================================\n",
            "Total params: 3,090\n",
            "Trainable params: 3,090\n",
            "Non-trainable params: 0\n",
            "_________________________________________________________________\n"
          ],
          "name": "stdout"
        }
      ]
    },
    {
      "cell_type": "code",
      "metadata": {
        "id": "U6zpfMRqMkpz"
      },
      "source": [
        "label = tf.one_hot(label.astype('int32'), depth = 10)\n",
        "test_label = np.array(test_label)\n",
        "test_label = np.reshape(test_label, (len(test_label), ))\n",
        "test_label = tf.one_hot(test_label.astype('int32'), depth = 10)"
      ],
      "execution_count": null,
      "outputs": []
    },
    {
      "cell_type": "code",
      "metadata": {
        "colab": {
          "base_uri": "https://localhost:8080/"
        },
        "id": "8KjmYdEkMkpz",
        "outputId": "54d3cbea-c79f-4c24-af14-60193c5a515e"
      },
      "source": [
        "model.compile(\n",
        "    optimizer=tfk.optimizers.RMSprop(),\n",
        "    loss=tfk.losses.CategoricalCrossentropy(),\n",
        ")\n",
        "\n",
        "results = model.fit(x_train, label, batch_size = 35,  epochs=5, validation_data=(test_data, test_label))"
      ],
      "execution_count": null,
      "outputs": [
        {
          "output_type": "stream",
          "text": [
            "Epoch 1/5\n",
            "1429/1429 [==============================] - 16s 11ms/step - loss: 2.3043 - val_loss: 2.3027\n",
            "Epoch 2/5\n",
            "1429/1429 [==============================] - 16s 11ms/step - loss: 2.2966 - val_loss: 2.2747\n",
            "Epoch 3/5\n",
            "1429/1429 [==============================] - 15s 10ms/step - loss: 2.2448 - val_loss: 2.2193\n",
            "Epoch 4/5\n",
            "1429/1429 [==============================] - 15s 10ms/step - loss: 2.1833 - val_loss: 2.1161\n",
            "Epoch 5/5\n",
            "1429/1429 [==============================] - 15s 10ms/step - loss: 2.1269 - val_loss: 2.0878\n"
          ],
          "name": "stdout"
        }
      ]
    },
    {
      "cell_type": "code",
      "metadata": {
        "colab": {
          "base_uri": "https://localhost:8080/",
          "height": 283
        },
        "id": "v68Ah72wMkpz",
        "outputId": "92a1ee84-58ec-4461-cf39-4c6e80bcb6ea"
      },
      "source": [
        "plt.plot(results.history[\"loss\"])\n",
        "plt.plot(results.history[\"val_loss\"])\n",
        "plt.legend(labels=[\"train\", \"val\"])"
      ],
      "execution_count": null,
      "outputs": [
        {
          "output_type": "execute_result",
          "data": {
            "text/plain": [
              "<matplotlib.legend.Legend at 0x7f2da173ba58>"
            ]
          },
          "metadata": {
            "tags": []
          },
          "execution_count": 21
        },
        {
          "output_type": "display_data",
          "data": {
            "image/png": "[encoded data removed]",
            "text/plain": [
              "<Figure size 432x288 with 1 Axes>"
            ]
          },
          "metadata": {
            "tags": [],
            "needs_background": "light"
          }
        }
      ]
    },
    {
      "cell_type": "markdown",
      "metadata": {
        "id": "WXX8gji4Mkpz"
      },
      "source": [
        "### 2.2 Transfer Learning"
      ]
    },
    {
      "cell_type": "code",
      "metadata": {
        "id": "Gje0RNxFMkpz"
      },
      "source": [
        "from tensorflow.keras.applications import VGG16"
      ],
      "execution_count": null,
      "outputs": []
    },
    {
      "cell_type": "code",
      "metadata": {
        "colab": {
          "base_uri": "https://localhost:8080/"
        },
        "id": "eWI45NyuMkp0",
        "outputId": "c628781a-b860-4a6e-f2e2-d57edc029a54"
      },
      "source": [
        "conv_base = VGG16(weights=\"imagenet\",include_top=False,input_shape=(32,32,3))\n",
        "\n",
        "model1 = tf.keras.models.Sequential()\n",
        "\n",
        "model1.add(conv_base)\n",
        "model1.add(tf.keras.layers.GlobalMaxPooling2D())\n",
        "model1.add(tf.keras.layers.Dense(128,activation='relu'))\n",
        "\n",
        "model1.add(tf.keras.layers.Dropout(0.5))\n",
        "model1.add(tf.keras.layers.Dense(10,activation='softmax'))\n",
        "\n",
        "model1.summary()\n",
        "\n",
        "model1.compile(\n",
        "    optimizer=tfk.optimizers.RMSprop(),\n",
        "    loss=tfk.losses.CategoricalCrossentropy(),\n",
        ")\n",
        "\n",
        "results = model1.fit(x_train, label, batch_size = 35,  epochs=1, validation_data=(test_data, test_label))"
      ],
      "execution_count": null,
      "outputs": [
        {
          "output_type": "stream",
          "text": [
            "Model: \"sequential_3\"\n",
            "_________________________________________________________________\n",
            "Layer (type)                 Output Shape              Param #   \n",
            "=================================================================\n",
            "vgg16 (Functional)           (None, 1, 1, 512)         14714688  \n",
            "_________________________________________________________________\n",
            "global_max_pooling2d_3 (Glob (None, 512)               0         \n",
            "_________________________________________________________________\n",
            "dense_5 (Dense)              (None, 128)               65664     \n",
            "_________________________________________________________________\n",
            "dropout_5 (Dropout)          (None, 128)               0         \n",
            "_________________________________________________________________\n",
            "dense_6 (Dense)              (None, 10)                1290      \n",
            "=================================================================\n",
            "Total params: 14,781,642\n",
            "Trainable params: 14,781,642\n",
            "Non-trainable params: 0\n",
            "_________________________________________________________________\n",
            "1429/1429 [==============================] - 4061s 3s/step - loss: 4.0920 - val_loss: 2.3026\n"
          ],
          "name": "stdout"
        }
      ]
    },
    {
      "cell_type": "markdown",
      "metadata": {
        "id": "LUuGbYWbY9RW"
      },
      "source": [
        "### 3.1 RNN"
      ]
    },
    {
      "cell_type": "code",
      "metadata": {
        "id": "wuoF_yDSMkp0"
      },
      "source": [
        "txt = pd.read_csv('/content/SPAM_detection.csv')"
      ],
      "execution_count": 17,
      "outputs": []
    },
    {
      "cell_type": "code",
      "metadata": {
        "colab": {
          "base_uri": "https://localhost:8080/",
          "height": 202
        },
        "id": "9YQ0zDbqY7VG",
        "outputId": "632bdd8d-c24f-4354-af4c-d3d2fa97ea96"
      },
      "source": [
        "txt.head()"
      ],
      "execution_count": 18,
      "outputs": [
        {
          "output_type": "execute_result",
          "data": {
            "text/html": [
              "<div>\n",
              "<style scoped>\n",
              "    .dataframe tbody tr th:only-of-type {\n",
              "        vertical-align: middle;\n",
              "    }\n",
              "\n",
              "    .dataframe tbody tr th {\n",
              "        vertical-align: top;\n",
              "    }\n",
              "\n",
              "    .dataframe thead th {\n",
              "        text-align: right;\n",
              "    }\n",
              "</style>\n",
              "<table border=\"1\" class=\"dataframe\">\n",
              "  <thead>\n",
              "    <tr style=\"text-align: right;\">\n",
              "      <th></th>\n",
              "      <th>Message</th>\n",
              "      <th>category_val</th>\n",
              "    </tr>\n",
              "  </thead>\n",
              "  <tbody>\n",
              "    <tr>\n",
              "      <th>0</th>\n",
              "      <td>Go until jurong point, crazy.. Available only ...</td>\n",
              "      <td>0</td>\n",
              "    </tr>\n",
              "    <tr>\n",
              "      <th>1</th>\n",
              "      <td>Ok lar... Joking wif u oni...</td>\n",
              "      <td>0</td>\n",
              "    </tr>\n",
              "    <tr>\n",
              "      <th>2</th>\n",
              "      <td>Free entry in 2 a wkly comp to win FA Cup fina...</td>\n",
              "      <td>1</td>\n",
              "    </tr>\n",
              "    <tr>\n",
              "      <th>3</th>\n",
              "      <td>U dun say so early hor... U c already then say...</td>\n",
              "      <td>0</td>\n",
              "    </tr>\n",
              "    <tr>\n",
              "      <th>4</th>\n",
              "      <td>Nah I don't think he goes to usf, he lives aro...</td>\n",
              "      <td>0</td>\n",
              "    </tr>\n",
              "  </tbody>\n",
              "</table>\n",
              "</div>"
            ],
            "text/plain": [
              "                                             Message  category_val\n",
              "0  Go until jurong point, crazy.. Available only ...             0\n",
              "1                      Ok lar... Joking wif u oni...             0\n",
              "2  Free entry in 2 a wkly comp to win FA Cup fina...             1\n",
              "3  U dun say so early hor... U c already then say...             0\n",
              "4  Nah I don't think he goes to usf, he lives aro...             0"
            ]
          },
          "metadata": {
            "tags": []
          },
          "execution_count": 18
        }
      ]
    },
    {
      "cell_type": "code",
      "metadata": {
        "colab": {
          "base_uri": "https://localhost:8080/"
        },
        "id": "zXwKtPiQY7bx",
        "outputId": "6ff0e649-0bb1-4f6f-89d9-b57437c1f717"
      },
      "source": [
        "text = ' '.join(list(txt['Message']))\n",
        "\n",
        "chars = (sorted(list(set(text))))\n",
        "\n",
        "char_indices = dict((c, i) for i, c in enumerate(chars))\n",
        "indices_char = dict((i, c) for i, c in enumerate(chars))\n",
        "\n",
        "print('total chars:', len(chars))"
      ],
      "execution_count": 19,
      "outputs": [
        {
          "output_type": "stream",
          "text": [
            "total chars: 118\n"
          ],
          "name": "stdout"
        }
      ]
    },
    {
      "cell_type": "code",
      "metadata": {
        "colab": {
          "base_uri": "https://localhost:8080/"
        },
        "id": "U2GMqVMmiURL",
        "outputId": "3e59390f-3aee-441e-d692-bc77784e4d93"
      },
      "source": [
        "maxlen = 40\n",
        "step = 3\n",
        "sub_sequences = []\n",
        "next_chars = []\n",
        "for i in range(0, len(text) - maxlen, step):\n",
        "    sub_sequences.append(text[i: i + maxlen])\n",
        "    next_chars.append(text[i + maxlen])\n",
        "print('nb sequences:', len(sub_sequences))"
      ],
      "execution_count": 20,
      "outputs": [
        {
          "output_type": "stream",
          "text": [
            "nb sequences: 151116\n"
          ],
          "name": "stdout"
        }
      ]
    },
    {
      "cell_type": "code",
      "metadata": {
        "id": "AfSnASbkg36u"
      },
      "source": [
        "X = np.zeros((len(sub_sequences), maxlen, len(chars)), dtype=np.uint8 )\n",
        "Y = np.zeros((len(sub_sequences), len(chars)), dtype=np.uint8)\n",
        "for i, seq in enumerate(sub_sequences):\n",
        "    for t, char in enumerate(seq):\n",
        "        X[i, t, char_indices[char]] = 1\n",
        "        Y[i, char_indices[next_chars[i]]] = 1"
      ],
      "execution_count": 21,
      "outputs": []
    },
    {
      "cell_type": "code",
      "metadata": {
        "colab": {
          "base_uri": "https://localhost:8080/"
        },
        "id": "x1LvMlFshr2P",
        "outputId": "c7fae7e0-12d6-48c7-bbe8-6ff035ffbe7e"
      },
      "source": [
        "char_rnn = Sequential()\n",
        "char_rnn.add(tfkl.LSTM(128, input_shape=(maxlen, len(chars))))\n",
        "char_rnn.add(tfkl.Dense(len(chars),activation=\"softmax\"))\n",
        "\n",
        "char_rnn.compile(loss='categorical_crossentropy', optimizer=tfk.optimizers.RMSprop(lr=0.01))\n",
        "\n",
        "result = char_rnn.fit(X,Y, epochs=20, batch_size=1024)"
      ],
      "execution_count": null,
      "outputs": [
        {
          "output_type": "stream",
          "text": [
            "Epoch 1/20\n",
            "148/148 [==============================] - 91s 615ms/step - loss: 2.9185\n",
            "Epoch 2/20\n",
            "148/148 [==============================] - 92s 619ms/step - loss: 2.3142\n",
            "Epoch 3/20\n",
            "148/148 [==============================] - 90s 608ms/step - loss: 2.1063\n",
            "Epoch 4/20\n",
            "148/148 [==============================] - 89s 604ms/step - loss: 1.9698\n",
            "Epoch 5/20\n",
            "148/148 [==============================] - 91s 612ms/step - loss: 1.8736\n",
            "Epoch 6/20\n",
            "148/148 [==============================] - 90s 605ms/step - loss: 1.7982\n",
            "Epoch 7/20\n",
            "148/148 [==============================] - 90s 610ms/step - loss: 1.7366\n",
            "Epoch 8/20\n",
            "148/148 [==============================] - 89s 604ms/step - loss: 1.6833\n",
            "Epoch 9/20\n",
            "148/148 [==============================] - 90s 608ms/step - loss: 1.6389\n",
            "Epoch 10/20\n",
            "148/148 [==============================] - 90s 609ms/step - loss: 1.6003\n",
            "Epoch 11/20\n",
            "148/148 [==============================] - 90s 606ms/step - loss: 1.5692\n",
            "Epoch 12/20\n",
            "148/148 [==============================] - 91s 617ms/step - loss: 1.5545\n",
            "Epoch 13/20\n",
            "148/148 [==============================] - 90s 610ms/step - loss: 1.5243\n",
            "Epoch 14/20\n",
            "148/148 [==============================] - 90s 611ms/step - loss: 1.4996\n",
            "Epoch 15/20\n",
            "148/148 [==============================] - 88s 595ms/step - loss: 1.4773\n",
            "Epoch 16/20\n",
            "148/148 [==============================] - 88s 597ms/step - loss: 1.4602\n",
            "Epoch 17/20\n",
            "148/148 [==============================] - 88s 597ms/step - loss: 1.4417\n",
            "Epoch 18/20\n",
            "148/148 [==============================] - 88s 595ms/step - loss: 1.4272\n",
            "Epoch 19/20\n",
            "148/148 [==============================] - 88s 596ms/step - loss: 1.4159\n",
            "Epoch 20/20\n",
            "148/148 [==============================] - 89s 602ms/step - loss: 1.4017\n"
          ],
          "name": "stdout"
        }
      ]
    },
    {
      "cell_type": "markdown",
      "metadata": {
        "id": "EDvnxXC-xjXU"
      },
      "source": [
        "### 3.2 CNN\n"
      ]
    },
    {
      "cell_type": "markdown",
      "metadata": {
        "id": "grPXg9_YP4zj"
      },
      "source": [
        "reference:  https://www.kaggle.com/bmmidei/using-convolution-for-nlp-text-classification"
      ]
    },
    {
      "cell_type": "code",
      "metadata": {
        "id": "3FfRES-yjLJ3"
      },
      "source": [
        "import numpy as np\n",
        "import matplotlib.pyplot as plt\n",
        "import os\n",
        "\n",
        "from sklearn.model_selection import train_test_split\n",
        "from sklearn.metrics import f1_score\n",
        "\n",
        "from keras.callbacks import Callback\n",
        "from keras.preprocessing.text import Tokenizer\n",
        "from keras.preprocessing.sequence import pad_sequences\n",
        "from keras.layers import Input, Dense, Embedding, Dropout\n",
        "from keras.layers import Conv1D, MaxPool1D, Flatten, Concatenate\n",
        "from keras.models import Model\n",
        "from keras.utils.vis_utils import plot_model\n",
        "\n",
        "%load_ext autoreload\n",
        "%autoreload 2"
      ],
      "execution_count": 4,
      "outputs": []
    },
    {
      "cell_type": "code",
      "metadata": {
        "id": "9Wp5wb9HQI8G"
      },
      "source": [
        "embed_size = 300\n",
        "max_words = 45000\n",
        "maxlen = 100 # \n",
        "tokenizer = Tokenizer(num_words=max_words)\n",
        "tokenizer.fit_on_texts(list(text))\n",
        "X_train = tokenizer.texts_to_sequences(text)\n",
        "#X_val = tokenizer.texts_to_sequences(X_val)\n",
        "word_index = tokenizer.word_index\n",
        "X_train = pad_sequences(X_train, maxlen=maxlen)\n",
        "X_val = txt['category_val'].values"
      ],
      "execution_count": 71,
      "outputs": []
    },
    {
      "cell_type": "code",
      "metadata": {
        "colab": {
          "base_uri": "https://localhost:8080/"
        },
        "id": "lYhUFwW72zdv",
        "outputId": "cfb27f27-8a41-4140-8c0b-1100c9c94fb5"
      },
      "source": [
        "X_val = np.array(X_val)\n",
        "X_val = np.reshape(X_val, (len(X_val), 1))\n",
        "X_val.shape"
      ],
      "execution_count": 77,
      "outputs": [
        {
          "output_type": "execute_result",
          "data": {
            "text/plain": [
              "(5572, 1)"
            ]
          },
          "metadata": {
            "tags": []
          },
          "execution_count": 77
        }
      ]
    },
    {
      "cell_type": "code",
      "metadata": {
        "id": "eAZ0ZvjUx1Qr"
      },
      "source": [
        "train = np.reshape(X_train, (len(X_train), 10, 5, 2))"
      ],
      "execution_count": 78,
      "outputs": []
    },
    {
      "cell_type": "code",
      "metadata": {
        "id": "DJNdH52v4XUa"
      },
      "source": [
        "X_train, X_val, y_train, y_val = train_test_split(train[:5572], X_val, test_size=0.2, random_state=0)"
      ],
      "execution_count": 80,
      "outputs": []
    },
    {
      "cell_type": "code",
      "metadata": {
        "colab": {
          "base_uri": "https://localhost:8080/"
        },
        "id": "dLUmjdxY3DvB",
        "outputId": "3e646dde-5c0f-468c-e987-d3a966e3ee96"
      },
      "source": [
        "model = tfk.Sequential()\n",
        "model.add(tfkl.Conv2D(filters = 1, kernel_size=(3,3), strides=(1,1), \n",
        "                      padding=\"valid\", activation='relu', input_shape=(10, 5, 2)))\n",
        "model.add(tfkl.MaxPool2D(pool_size=(2,2)))\n",
        "model.add(tfkl.Flatten())\n",
        "model.add(tfkl.Dense(1, activation='softmax'))\n",
        "\n",
        "model.summary()\n",
        "\n",
        "model.compile(\n",
        "    optimizer=tfk.optimizers.RMSprop(),\n",
        "    loss=tfk.losses.CategoricalCrossentropy(),\n",
        ")\n",
        "\n",
        "results = model.fit(X_train, y_train, steps_per_epoch=20, epochs=20, validation_data=(X_val, y_val))"
      ],
      "execution_count": 86,
      "outputs": [
        {
          "output_type": "stream",
          "text": [
            "Model: \"sequential_9\"\n",
            "_________________________________________________________________\n",
            "Layer (type)                 Output Shape              Param #   \n",
            "=================================================================\n",
            "conv2d_9 (Conv2D)            (None, 8, 3, 1)           19        \n",
            "_________________________________________________________________\n",
            "max_pooling2d_5 (MaxPooling2 (None, 4, 1, 1)           0         \n",
            "_________________________________________________________________\n",
            "flatten_4 (Flatten)          (None, 4)                 0         \n",
            "_________________________________________________________________\n",
            "dense_4 (Dense)              (None, 1)                 5         \n",
            "=================================================================\n",
            "Total params: 24\n",
            "Trainable params: 24\n",
            "Non-trainable params: 0\n",
            "_________________________________________________________________\n",
            "Epoch 1/20\n",
            "20/20 [==============================] - 0s 15ms/step - loss: 0.0000e+00 - val_loss: 0.0000e+00\n",
            "Epoch 2/20\n",
            "20/20 [==============================] - 0s 6ms/step - loss: 0.0000e+00 - val_loss: 0.0000e+00\n",
            "Epoch 3/20\n",
            "20/20 [==============================] - 0s 6ms/step - loss: 0.0000e+00 - val_loss: 0.0000e+00\n",
            "Epoch 4/20\n",
            "20/20 [==============================] - 0s 6ms/step - loss: 0.0000e+00 - val_loss: 0.0000e+00\n",
            "Epoch 5/20\n",
            "20/20 [==============================] - 0s 6ms/step - loss: 0.0000e+00 - val_loss: 0.0000e+00\n",
            "Epoch 6/20\n",
            "20/20 [==============================] - 0s 6ms/step - loss: 0.0000e+00 - val_loss: 0.0000e+00\n",
            "Epoch 7/20\n",
            "20/20 [==============================] - 0s 7ms/step - loss: 0.0000e+00 - val_loss: 0.0000e+00\n",
            "Epoch 8/20\n",
            "20/20 [==============================] - 0s 6ms/step - loss: 0.0000e+00 - val_loss: 0.0000e+00\n",
            "Epoch 9/20\n",
            "20/20 [==============================] - 0s 6ms/step - loss: 0.0000e+00 - val_loss: 0.0000e+00\n",
            "Epoch 10/20\n",
            "20/20 [==============================] - 0s 6ms/step - loss: 0.0000e+00 - val_loss: 0.0000e+00\n",
            "Epoch 11/20\n",
            "20/20 [==============================] - 0s 6ms/step - loss: 0.0000e+00 - val_loss: 0.0000e+00\n",
            "Epoch 12/20\n",
            "20/20 [==============================] - 0s 7ms/step - loss: 0.0000e+00 - val_loss: 0.0000e+00\n",
            "Epoch 13/20\n",
            "20/20 [==============================] - 0s 6ms/step - loss: 0.0000e+00 - val_loss: 0.0000e+00\n",
            "Epoch 14/20\n",
            "20/20 [==============================] - 0s 6ms/step - loss: 0.0000e+00 - val_loss: 0.0000e+00\n",
            "Epoch 15/20\n",
            "20/20 [==============================] - 0s 6ms/step - loss: 0.0000e+00 - val_loss: 0.0000e+00\n",
            "Epoch 16/20\n",
            "20/20 [==============================] - 0s 6ms/step - loss: 0.0000e+00 - val_loss: 0.0000e+00\n",
            "Epoch 17/20\n",
            "20/20 [==============================] - 0s 6ms/step - loss: 0.0000e+00 - val_loss: 0.0000e+00\n",
            "Epoch 18/20\n",
            "20/20 [==============================] - 0s 6ms/step - loss: 0.0000e+00 - val_loss: 0.0000e+00\n",
            "Epoch 19/20\n",
            "20/20 [==============================] - 0s 6ms/step - loss: 0.0000e+00 - val_loss: 0.0000e+00\n",
            "Epoch 20/20\n",
            "20/20 [==============================] - 0s 7ms/step - loss: 0.0000e+00 - val_loss: 0.0000e+00\n"
          ],
          "name": "stdout"
        }
      ]
    }
  ]
}